{
 "cells": [
  {
   "cell_type": "markdown",
   "metadata": {},
   "source": [
    "**Oleobrás em busca do melhor lugar para um novo poço!**"
   ]
  },
  {
   "cell_type": "markdown",
   "metadata": {},
   "source": [
    "Nesse projeto vamos desenvolver um modelo para encontrar o melhor lugar para um novo poço da empresa de mineração Oleobrás. Iremos coletar os parâmetros de poços de petróleo na região selecionada: a qualidade de petróleo e o volume de reservas, construir um modelo para predizer o volume de reservas nos novos poços, Escolher os poços de petróleo que têm os maiores valores estimados e por fim, escolher a região com o maior lucro total para os poços de petróleo selecionados.\n",
    "\n"
   ]
  },
  {
   "cell_type": "markdown",
   "metadata": {},
   "source": [
    "Primeiro passo será importar as bibliotecas necessárias."
   ]
  },
  {
   "cell_type": "code",
   "execution_count": 1,
   "metadata": {},
   "outputs": [],
   "source": [
    "import pandas as pd\n",
    "from sklearn.linear_model import LinearRegression\n",
    "from sklearn.model_selection import train_test_split\n",
    "from sklearn.metrics import mean_squared_error\n",
    "import numpy as np\n",
    "from sklearn.metrics import r2_score\n",
    "from sklearn.metrics import mean_absolute_error\n"
   ]
  },
  {
   "cell_type": "markdown",
   "metadata": {},
   "source": [
    "Abaixo li os arquivos com os dados de cada região:"
   ]
  },
  {
   "cell_type": "code",
   "execution_count": 2,
   "metadata": {},
   "outputs": [],
   "source": [
    "df_zero = pd.read_csv('/datasets/geo_data_0.csv')\n",
    "df_one = pd.read_csv('/datasets/geo_data_1.csv')\n",
    "df_two = pd.read_csv('/datasets/geo_data_2.csv')"
   ]
  },
  {
   "cell_type": "markdown",
   "metadata": {},
   "source": [
    "A função resumo foi criada para facilitar a apresentação dos dados relevantes de cada tabela. "
   ]
  },
  {
   "cell_type": "code",
   "execution_count": 3,
   "metadata": {},
   "outputs": [],
   "source": [
    "def resumo(df):\n",
    "    print(df)\n",
    "    print(df.info())\n",
    "    print(df.describe())"
   ]
  },
  {
   "cell_type": "code",
   "execution_count": 4,
   "metadata": {},
   "outputs": [
    {
     "name": "stdout",
     "output_type": "stream",
     "text": [
      "          id        f0        f1        f2     product\n",
      "0      txEyH  0.705745 -0.497823  1.221170  105.280062\n",
      "1      2acmU  1.334711 -0.340164  4.365080   73.037750\n",
      "2      409Wp  1.022732  0.151990  1.419926   85.265647\n",
      "3      iJLyR -0.032172  0.139033  2.978566  168.620776\n",
      "4      Xdl7t  1.988431  0.155413  4.751769  154.036647\n",
      "...      ...       ...       ...       ...         ...\n",
      "99995  DLsed  0.971957  0.370953  6.075346  110.744026\n",
      "99996  QKivN  1.392429 -0.382606  1.273912  122.346843\n",
      "99997  3rnvd  1.029585  0.018787 -1.348308   64.375443\n",
      "99998  7kl59  0.998163 -0.528582  1.583869   74.040764\n",
      "99999  1CWhH  1.764754 -0.266417  5.722849  149.633246\n",
      "\n",
      "[100000 rows x 5 columns]\n",
      "<class 'pandas.core.frame.DataFrame'>\n",
      "RangeIndex: 100000 entries, 0 to 99999\n",
      "Data columns (total 5 columns):\n",
      " #   Column   Non-Null Count   Dtype  \n",
      "---  ------   --------------   -----  \n",
      " 0   id       100000 non-null  object \n",
      " 1   f0       100000 non-null  float64\n",
      " 2   f1       100000 non-null  float64\n",
      " 3   f2       100000 non-null  float64\n",
      " 4   product  100000 non-null  float64\n",
      "dtypes: float64(4), object(1)\n",
      "memory usage: 3.8+ MB\n",
      "None\n",
      "                  f0             f1             f2        product\n",
      "count  100000.000000  100000.000000  100000.000000  100000.000000\n",
      "mean        0.500419       0.250143       2.502647      92.500000\n",
      "std         0.871832       0.504433       3.248248      44.288691\n",
      "min        -1.408605      -0.848218     -12.088328       0.000000\n",
      "25%        -0.072580      -0.200881       0.287748      56.497507\n",
      "50%         0.502360       0.250252       2.515969      91.849972\n",
      "75%         1.073581       0.700646       4.715088     128.564089\n",
      "max         2.362331       1.343769      16.003790     185.364347\n"
     ]
    }
   ],
   "source": [
    "resumo(df_zero)"
   ]
  },
  {
   "cell_type": "code",
   "execution_count": 5,
   "metadata": {
    "scrolled": true
   },
   "outputs": [
    {
     "name": "stdout",
     "output_type": "stream",
     "text": [
      "          id         f0         f1        f2     product\n",
      "0      kBEdx -15.001348  -8.276000 -0.005876    3.179103\n",
      "1      62mP7  14.272088  -3.475083  0.999183   26.953261\n",
      "2      vyE1P   6.263187  -5.948386  5.001160  134.766305\n",
      "3      KcrkZ -13.081196 -11.506057  4.999415  137.945408\n",
      "4      AHL4O  12.702195  -8.147433  5.004363  134.766305\n",
      "...      ...        ...        ...       ...         ...\n",
      "99995  QywKC   9.535637  -6.878139  1.998296   53.906522\n",
      "99996  ptvty -10.160631 -12.558096  5.005581  137.945408\n",
      "99997  09gWa  -7.378891  -3.084104  4.998651  137.945408\n",
      "99998  rqwUm   0.665714  -6.152593  1.000146   30.132364\n",
      "99999  relB0  -3.426139  -7.794274 -0.003299    3.179103\n",
      "\n",
      "[100000 rows x 5 columns]\n",
      "<class 'pandas.core.frame.DataFrame'>\n",
      "RangeIndex: 100000 entries, 0 to 99999\n",
      "Data columns (total 5 columns):\n",
      " #   Column   Non-Null Count   Dtype  \n",
      "---  ------   --------------   -----  \n",
      " 0   id       100000 non-null  object \n",
      " 1   f0       100000 non-null  float64\n",
      " 2   f1       100000 non-null  float64\n",
      " 3   f2       100000 non-null  float64\n",
      " 4   product  100000 non-null  float64\n",
      "dtypes: float64(4), object(1)\n",
      "memory usage: 3.8+ MB\n",
      "None\n",
      "                  f0             f1             f2        product\n",
      "count  100000.000000  100000.000000  100000.000000  100000.000000\n",
      "mean        1.141296      -4.796579       2.494541      68.825000\n",
      "std         8.965932       5.119872       1.703572      45.944423\n",
      "min       -31.609576     -26.358598      -0.018144       0.000000\n",
      "25%        -6.298551      -8.267985       1.000021      26.953261\n",
      "50%         1.153055      -4.813172       2.011479      57.085625\n",
      "75%         8.621015      -1.332816       3.999904     107.813044\n",
      "max        29.421755      18.734063       5.019721     137.945408\n"
     ]
    }
   ],
   "source": [
    "resumo(df_one)"
   ]
  },
  {
   "cell_type": "code",
   "execution_count": 6,
   "metadata": {},
   "outputs": [
    {
     "name": "stdout",
     "output_type": "stream",
     "text": [
      "          id        f0        f1        f2     product\n",
      "0      fwXo0 -1.146987  0.963328 -0.828965   27.758673\n",
      "1      WJtFt  0.262778  0.269839 -2.530187   56.069697\n",
      "2      ovLUW  0.194587  0.289035 -5.586433   62.871910\n",
      "3      q6cA6  2.236060 -0.553760  0.930038  114.572842\n",
      "4      WPMUX -0.515993  1.716266  5.899011  149.600746\n",
      "...      ...       ...       ...       ...         ...\n",
      "99995  4GxBu -1.777037  1.125220  6.263374  172.327046\n",
      "99996  YKFjq -1.261523 -0.894828  2.524545  138.748846\n",
      "99997  tKPY3 -1.199934 -2.957637  5.219411  157.080080\n",
      "99998  nmxp2 -2.419896  2.417221 -5.548444   51.795253\n",
      "99999  V9kWn -2.551421 -2.025625  6.090891  102.775767\n",
      "\n",
      "[100000 rows x 5 columns]\n",
      "<class 'pandas.core.frame.DataFrame'>\n",
      "RangeIndex: 100000 entries, 0 to 99999\n",
      "Data columns (total 5 columns):\n",
      " #   Column   Non-Null Count   Dtype  \n",
      "---  ------   --------------   -----  \n",
      " 0   id       100000 non-null  object \n",
      " 1   f0       100000 non-null  float64\n",
      " 2   f1       100000 non-null  float64\n",
      " 3   f2       100000 non-null  float64\n",
      " 4   product  100000 non-null  float64\n",
      "dtypes: float64(4), object(1)\n",
      "memory usage: 3.8+ MB\n",
      "None\n",
      "                  f0             f1             f2        product\n",
      "count  100000.000000  100000.000000  100000.000000  100000.000000\n",
      "mean        0.002023      -0.002081       2.495128      95.000000\n",
      "std         1.732045       1.730417       3.473445      44.749921\n",
      "min        -8.760004      -7.084020     -11.970335       0.000000\n",
      "25%        -1.162288      -1.174820       0.130359      59.450441\n",
      "50%         0.009424      -0.009482       2.484236      94.925613\n",
      "75%         1.158535       1.163678       4.858794     130.595027\n",
      "max         7.238262       7.844801      16.739402     190.029838\n"
     ]
    }
   ],
   "source": [
    "resumo(df_two)"
   ]
  },
  {
   "cell_type": "markdown",
   "metadata": {},
   "source": [
    "Analisando as tabelas, não foi preciso fazer nenhuma adequação. Não havia dados duplicados, nem nulos. Portanto, segui com o estudo."
   ]
  },
  {
   "cell_type": "markdown",
   "metadata": {},
   "source": [
    "Dividi as 3 tabelas em target (objetivo) e features (características). Target representa a coluna 'product'(volume de reservas no poço de petróleo (milhares de barris)) e features as outras com exceção das colunas:'product'e 'id'. A coluna 'id' não acrescentaria nenhuma informação relevante ao modelo."
   ]
  },
  {
   "cell_type": "code",
   "execution_count": 7,
   "metadata": {},
   "outputs": [],
   "source": [
    "target_zero = df_zero['product']\n",
    "features_zero = df_zero.drop(['product','id'], axis=1)"
   ]
  },
  {
   "cell_type": "code",
   "execution_count": 8,
   "metadata": {},
   "outputs": [],
   "source": [
    "target_one = df_one['product']\n",
    "features_one = df_one.drop(['product','id'], axis=1)"
   ]
  },
  {
   "cell_type": "code",
   "execution_count": 9,
   "metadata": {},
   "outputs": [],
   "source": [
    "target_two = df_two['product']\n",
    "features_two = df_two.drop(['product','id'], axis=1)"
   ]
  },
  {
   "cell_type": "markdown",
   "metadata": {},
   "source": [
    "Para nosso modelo funcionar precisamos ter além de um conjunto para treinar o modelo, um conjunto para validá-lo. Por isso, nos próximos códigos dividi os dados da seguinte forma: 75% conjunto de teste e 25% conjunto de validação."
   ]
  },
  {
   "cell_type": "code",
   "execution_count": 10,
   "metadata": {},
   "outputs": [],
   "source": [
    "features_train_zero, features_valid_zero, target_train_zero, target_valid_zero = train_test_split(\n",
    "    features_zero, target_zero, test_size=0.25, random_state=12345\n",
    ")"
   ]
  },
  {
   "cell_type": "code",
   "execution_count": 11,
   "metadata": {},
   "outputs": [],
   "source": [
    "features_train_one, features_valid_one, target_train_one, target_valid_one = train_test_split(\n",
    "    features_one, target_one, test_size=0.25, random_state=12345\n",
    ")"
   ]
  },
  {
   "cell_type": "code",
   "execution_count": 12,
   "metadata": {},
   "outputs": [],
   "source": [
    "features_train_two, features_valid_two, target_train_two, target_valid_two = train_test_split(\n",
    "    features_two, target_two, test_size=0.25, random_state=12345\n",
    ")"
   ]
  },
  {
   "cell_type": "markdown",
   "metadata": {},
   "source": [
    "O projeto exige que o nosso modelo seja estimado somente através de regressão linear. Portanto, treinei o modelo de regressão linear para cada região e com isso obtive suas predições. "
   ]
  },
  {
   "cell_type": "code",
   "execution_count": 13,
   "metadata": {
    "scrolled": true
   },
   "outputs": [],
   "source": [
    "model_zero = LinearRegression()\n",
    "model_zero.fit(features_train_zero,target_train_zero)\n",
    "predictions_valid_zero = model_zero.predict(features_valid_zero)\n"
   ]
  },
  {
   "cell_type": "code",
   "execution_count": 14,
   "metadata": {},
   "outputs": [],
   "source": [
    "model_one = LinearRegression()\n",
    "model_one.fit(features_train_one,target_train_one)\n",
    "predictions_valid_one = model_one.predict(features_valid_one)"
   ]
  },
  {
   "cell_type": "code",
   "execution_count": 15,
   "metadata": {},
   "outputs": [],
   "source": [
    "model_two = LinearRegression()\n",
    "model_two.fit(features_train_two,target_train_two)\n",
    "predictions_valid_two = model_two.predict(features_valid_two)"
   ]
  },
  {
   "cell_type": "markdown",
   "metadata": {},
   "source": [
    "Com as predições de cada dataframe calculadas, posso gerar  algumas métricas muito importantes quando estamos estudando regressões. Abaixo criei uma função que facilita esses cálculos para cada região. Iremos descobrir o REQM, erro médio absoluto, o volume médio e o R2 de cada região.    "
   ]
  },
  {
   "cell_type": "code",
   "execution_count": 16,
   "metadata": {},
   "outputs": [],
   "source": [
    "def linear_reg(features_train,target_train,features_valid,target_valid,predictions_valid):\n",
    "\n",
    "    \n",
    "    REQM = mean_squared_error(target_valid, predictions_valid)**0.5\n",
    "    print(\"O REQM do modelo de regressão linear no conjunto de validação:\", REQM)\n",
    "    \n",
    "    EMA = mean_absolute_error(target_valid,predictions_valid)\n",
    "    print(\"O Erro médio Absoluto do modelo de regressão linear no conjunto de validação:\", EMA)\n",
    "    \n",
    "    print(\"O volume médio da região no conjunto de predição:\", predictions_valid.mean())\n",
    "    print(\"O volume médio da região no conjunto de validação :\", target_valid.mean())\n",
    "    \n",
    "    r2 = r2_score(target_valid,predictions_valid)\n",
    "    print('R2_zero =', r2)  "
   ]
  },
  {
   "cell_type": "code",
   "execution_count": 17,
   "metadata": {},
   "outputs": [
    {
     "name": "stdout",
     "output_type": "stream",
     "text": [
      "O REQM do modelo de regressão linear no conjunto de validação: 37.5794217150813\n",
      "O Erro médio Absoluto do modelo de regressão linear no conjunto de validação: 30.919600777151313\n",
      "O volume médio da região no conjunto de predição: 92.59256778438035\n",
      "O volume médio da região no conjunto de validação : 92.07859674082927\n",
      "R2_zero = 0.27994321524487786\n"
     ]
    }
   ],
   "source": [
    "linear_reg(features_train_zero,target_train_zero,features_valid_zero,target_valid_zero,predictions_valid_zero)"
   ]
  },
  {
   "cell_type": "code",
   "execution_count": 18,
   "metadata": {},
   "outputs": [
    {
     "name": "stdout",
     "output_type": "stream",
     "text": [
      "O REQM do modelo de regressão linear no conjunto de validação: 0.893099286775617\n",
      "O Erro médio Absoluto do modelo de regressão linear no conjunto de validação: 0.7187662442124758\n",
      "O volume médio da região no conjunto de predição: 68.728546895446\n",
      "O volume médio da região no conjunto de validação : 68.72313602435997\n",
      "R2_zero = 0.9996233978805127\n"
     ]
    }
   ],
   "source": [
    "linear_reg(features_train_one,target_train_one,features_valid_one,target_valid_one,predictions_valid_one)"
   ]
  },
  {
   "cell_type": "code",
   "execution_count": 19,
   "metadata": {},
   "outputs": [
    {
     "name": "stdout",
     "output_type": "stream",
     "text": [
      "O REQM do modelo de regressão linear no conjunto de validação: 40.02970873393434\n",
      "O Erro médio Absoluto do modelo de regressão linear no conjunto de validação: 32.792652105481814\n",
      "O volume médio da região no conjunto de predição: 94.96504596800489\n",
      "O volume médio da região no conjunto de validação : 94.88423280885438\n",
      "R2_zero = 0.20524758386040443\n"
     ]
    }
   ],
   "source": [
    "linear_reg(features_train_two,target_train_two,features_valid_two,target_valid_two,predictions_valid_two)"
   ]
  },
  {
   "cell_type": "markdown",
   "metadata": {},
   "source": [
    "Percebemos que a região 2 (df_one) tem o menor valor de REQM e EMA, sinalizando que suas predições têm um nível menor de erro em relação as outras duas regiões. Essa região também tem o menor R2 (Coeficiente de determinação) assim, sendo o modelo que melhor prevê as repostas. Essas métricas mostram que o modelo de regressão linear é o mais confiável. Contudo, em relação à média, as regiões 1 e 3 possuem consideravelmente um volume maior de barris de petróleo. A região 3, por exemplo, tem em média 94 mil barris de petróleo enquanto a regiao 2, apenas 68. "
   ]
  },
  {
   "cell_type": "markdown",
   "metadata": {},
   "source": [
    "O projeto demanda que criemos uma função para calcular o lucro e que calculemos o volume mínimo de reservas suficientes para desenvolver um novo poço sem prejuízo.   "
   ]
  },
  {
   "cell_type": "code",
   "execution_count": 20,
   "metadata": {},
   "outputs": [],
   "source": [
    "custo = 100000000\n",
    "receita_per_mil_barris = 4500\n",
    "lucro_min = 0"
   ]
  },
  {
   "cell_type": "code",
   "execution_count": 21,
   "metadata": {},
   "outputs": [
    {
     "name": "stdout",
     "output_type": "stream",
     "text": [
      "Volume Minimo por região: 22222.22\n"
     ]
    }
   ],
   "source": [
    "volume_min = (lucro_min+custo)/receita_per_mil_barris\n",
    "print('Volume Minimo por região:',round(volume_min,2))"
   ]
  },
  {
   "cell_type": "code",
   "execution_count": 22,
   "metadata": {},
   "outputs": [],
   "source": [
    "custo_per_bar = 100000000/200\n"
   ]
  },
  {
   "cell_type": "code",
   "execution_count": 23,
   "metadata": {},
   "outputs": [
    {
     "name": "stdout",
     "output_type": "stream",
     "text": [
      "Volume Minimo por poço: 111.11\n"
     ]
    }
   ],
   "source": [
    "volume_min = (lucro_min+custo_per_bar)/receita_per_mil_barris\n",
    "print('Volume Minimo por poço:',round(volume_min,2))"
   ]
  },
  {
   "cell_type": "markdown",
   "metadata": {},
   "source": [
    "O volume mínimo de reservas para desenvolver o poço sem prejuízos é de 111.11 milhares de barris. Esse número é superior à média encontrada nas 3 regiões analisadas. Como estamos buscando 200 poços, o volume mínimo por região é de 222.22. Abaixo foi definida a função lucro que será de extrema relevância para a continuação do estudo.    "
   ]
  },
  {
   "cell_type": "code",
   "execution_count": 24,
   "metadata": {},
   "outputs": [],
   "source": [
    "def lucro(custo,receita,total_volume):\n",
    "    lucro = (total_volume*receita)-custo\n",
    "    return lucro\n",
    "    "
   ]
  },
  {
   "cell_type": "markdown",
   "metadata": {},
   "source": [
    "Para os próximos passos foi necessário transformar os dados previstos pelo modelo no formato Series. "
   ]
  },
  {
   "cell_type": "code",
   "execution_count": 25,
   "metadata": {},
   "outputs": [],
   "source": [
    "predictions_valid_zero = pd.Series(predictions_valid_zero)\n",
    "predictions_valid_one = pd.Series(predictions_valid_one)\n",
    "predictions_valid_two = pd.Series(predictions_valid_two)"
   ]
  },
  {
   "cell_type": "markdown",
   "metadata": {},
   "source": [
    "Conforme foi solicitado no projeto, criei uma função que calcula o lucro total colhendo 500 pontos aleatórios e escolhendo os 200 melhores de acordo com as predições do modelo de regressão linear para cada região.   "
   ]
  },
  {
   "cell_type": "code",
   "execution_count": 26,
   "metadata": {},
   "outputs": [],
   "source": [
    "def calculate_profit(target,predictions, num_wells=200, custo=100000000,receita=4500):\n",
    "    state = np.random.RandomState(54321)\n",
    "    sample = predictions.sample(n=500,replace=True,random_state = state)\n",
    "    index = sample.sort_values(ascending=False)[:num_wells].index\n",
    "    total_volume = target.reset_index(drop=True)[index].sum()\n",
    "    total_profit = lucro(custo,receita,total_volume)\n",
    "    \n",
    "    \n",
    "    print(f\"Volume de reservas: {total_volume:.2f} milhares de barris\")\n",
    "    print(f\"Lucro total: ${total_profit:.2f}\")"
   ]
  },
  {
   "cell_type": "code",
   "execution_count": 27,
   "metadata": {},
   "outputs": [
    {
     "name": "stdout",
     "output_type": "stream",
     "text": [
      "Volume de reservas: 23223.67 milhares de barris\n",
      "Lucro total: $4506494.44\n"
     ]
    }
   ],
   "source": [
    "calculate_profit(target_valid_zero,predictions_valid_zero)"
   ]
  },
  {
   "cell_type": "code",
   "execution_count": 28,
   "metadata": {},
   "outputs": [
    {
     "name": "stdout",
     "output_type": "stream",
     "text": [
      "Volume de reservas: 23172.89 milhares de barris\n",
      "Lucro total: $4278020.28\n"
     ]
    }
   ],
   "source": [
    "calculate_profit(target_valid_one,predictions_valid_one)"
   ]
  },
  {
   "cell_type": "code",
   "execution_count": 29,
   "metadata": {},
   "outputs": [
    {
     "name": "stdout",
     "output_type": "stream",
     "text": [
      "Volume de reservas: 23223.67 milhares de barris\n",
      "Lucro total: $4506494.44\n"
     ]
    }
   ],
   "source": [
    "calculate_profit(target_valid_zero,predictions_valid_zero)"
   ]
  },
  {
   "cell_type": "markdown",
   "metadata": {},
   "source": [
    "A região 1 e 3 foram as com maiores lucros e reservas de barris de petróleo. Se analisássemos só dessa forma tenderíamos a não escolher a região 2 como possível opção para o investimento. Entretanto, não estamos levando em conta a probabilidade de escolhermos poços onde teríamos prejuízo. Por isso, abaixo utilizamos a técnica bootstrapping com 1000 amostras para encontrar a distribuição de lucros. Encontramos o lucro médio, intervalo de confiança de 95% e o risco de prejuízo.   "
   ]
  },
  {
   "cell_type": "code",
   "execution_count": 30,
   "metadata": {},
   "outputs": [],
   "source": [
    "def boot(target,predictions, num_wells=200, custo=100000000,receita=4500):\n",
    "    state = np.random.RandomState(54321)\n",
    "    values = []\n",
    "    for i in range(1000):\n",
    "        subsample = predictions.sample(n=500, replace=True, random_state=state)\n",
    "        index = subsample.sort_values(ascending=False)[:num_wells].index\n",
    "        total_volume = target.reset_index(drop=True)[index].sum()\n",
    "        profit = lucro(custo,receita,total_volume) \n",
    "        values.append(profit)\n",
    "       \n",
    "\n",
    "    \n",
    "    values = pd.Series(values)    \n",
    "\n",
    "    lower = values.quantile(0.025) \n",
    "    upper = values.quantile(0.975)\n",
    "    mean = values.mean()\n",
    "    preju_per = values[values<0].count()/len(values)*100\n",
    "\n",
    "    print('Limite inferior: $',round(lower,2))\n",
    "    print('Limite Superior: $',round(upper,2))\n",
    "    print('Lucro Médio da Região: $',round(mean,2))\n",
    "    print('Risco de Prejuizo na região:',preju_per,'%')"
   ]
  },
  {
   "cell_type": "markdown",
   "metadata": {},
   "source": [
    "nao entendi essa parte, pode explicar melhor?"
   ]
  },
  {
   "cell_type": "code",
   "execution_count": 31,
   "metadata": {},
   "outputs": [
    {
     "name": "stdout",
     "output_type": "stream",
     "text": [
      "Limite inferior: $ -1108640.03\n",
      "Limite Superior: $ 9033598.34\n",
      "Lucro Médio da Região: $ 3920829.09\n",
      "Risco de Prejuizo na região: 6.4 %\n"
     ]
    }
   ],
   "source": [
    "boot(target_valid_zero,predictions_valid_zero)"
   ]
  },
  {
   "cell_type": "code",
   "execution_count": 32,
   "metadata": {},
   "outputs": [
    {
     "name": "stdout",
     "output_type": "stream",
     "text": [
      "Limite inferior: $ 338267.29\n",
      "Limite Superior: $ 8465670.69\n",
      "Lucro Médio da Região: $ 4373341.52\n",
      "Risco de Prejuizo na região: 1.5 %\n"
     ]
    }
   ],
   "source": [
    "boot(target_valid_one,predictions_valid_one)"
   ]
  },
  {
   "cell_type": "code",
   "execution_count": 33,
   "metadata": {},
   "outputs": [
    {
     "name": "stdout",
     "output_type": "stream",
     "text": [
      "Limite inferior: $ -1108640.03\n",
      "Limite Superior: $ 9033598.34\n",
      "Lucro Médio da Região: $ 3920829.09\n",
      "Risco de Prejuizo na região: 6.4 %\n"
     ]
    }
   ],
   "source": [
    "boot(target_valid_zero,predictions_valid_zero)"
   ]
  },
  {
   "cell_type": "markdown",
   "metadata": {},
   "source": [
    "Analisando a distribuição dos lucros, vimos que apenas a região 2 no intervalo de 95% de confiança não tem prejuízos. Também somente ela tem risco de perdas abaixo de 2,5%. As regiões 1 e 3 por terem riscos de prejuízos maiores do que 2,5% foram automaticamente excluídas. Por ter menor risco de perdas e ainda pior cima um lucro médio maior a região 2 (df_one)) foi escolhida para o novo poço de petróleo. Também vale destacar que as predições da regressão linear de df_one obtiveram os melhores resultados."
   ]
  }
 ],
 "metadata": {
  "kernelspec": {
   "display_name": "Python 3 (ipykernel)",
   "language": "python",
   "name": "python3"
  },
  "language_info": {
   "codemirror_mode": {
    "name": "ipython",
    "version": 3
   },
   "file_extension": ".py",
   "mimetype": "text/x-python",
   "name": "python",
   "nbconvert_exporter": "python",
   "pygments_lexer": "ipython3",
   "version": "3.9.5"
  },
  "toc": {
   "base_numbering": 1,
   "nav_menu": {},
   "number_sections": true,
   "sideBar": true,
   "skip_h1_title": true,
   "title_cell": "Table of Contents",
   "title_sidebar": "Contents",
   "toc_cell": false,
   "toc_position": {},
   "toc_section_display": true,
   "toc_window_display": false
  }
 },
 "nbformat": 4,
 "nbformat_minor": 2
}
